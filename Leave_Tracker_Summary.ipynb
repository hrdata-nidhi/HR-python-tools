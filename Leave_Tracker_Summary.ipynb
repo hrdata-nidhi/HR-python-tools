{
  "nbformat": 4,
  "nbformat_minor": 0,
  "metadata": {
    "colab": {
      "provenance": []
    },
    "kernelspec": {
      "name": "python3",
      "display_name": "Python 3"
    },
    "language_info": {
      "name": "python"
    }
  },
  "cells": [
    {
      "cell_type": "code",
      "execution_count": null,
      "metadata": {
        "colab": {
          "base_uri": "https://localhost:8080/"
        },
        "id": "nYS_Uzxq8xmK",
        "outputId": "ac1fd42d-44a5-4a1f-ec1c-54b1c99d58f0"
      },
      "outputs": [
        {
          "output_type": "stream",
          "name": "stdout",
          "text": [
            "Aarthi has exceeded their annual leave limit\n"
          ]
        }
      ],
      "source": [
        "employee_name = \"Aarthi\"\n",
        "leaves_taken = 12\n",
        "\n",
        "if leaves_taken > 1:\n",
        "  print (f\"{employee_name} has exceeded their annual leave limit\")\n",
        "else:\n",
        "  print (f\"{employee_name} is within leave limits\")"
      ]
    }
  ]
}